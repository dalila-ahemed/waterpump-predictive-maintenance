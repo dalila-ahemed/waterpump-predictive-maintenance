{
 "cells": [
  {
   "cell_type": "code",
   "execution_count": 8,
   "id": "e1201bfc-4e7f-45e9-9039-81af56633a78",
   "metadata": {},
   "outputs": [],
   "source": [
    "import pandas as pd\n",
    "import numpy as np\n",
    "import matplotlib.pyplot as plt\n",
    "import seaborn as sns"
   ]
  },
  {
   "cell_type": "code",
   "execution_count": 9,
   "id": "4e0a52b3-f78d-4a6c-a8f9-01c62dc1c626",
   "metadata": {},
   "outputs": [],
   "source": [
    "from pmdarima import auto_arima\n",
    "import statsmodels.api as sm\n",
    "from fbprophet import Prophet\n",
    "from statsmodels.tsa.seasonal import seasonal_decompose"
   ]
  },
  {
   "cell_type": "code",
   "execution_count": 10,
   "id": "f583bdc0-5492-4f66-8c09-68cb2f4a471e",
   "metadata": {},
   "outputs": [],
   "source": [
    "from sklearn.feature_selection import mutual_info_regression"
   ]
  },
  {
   "cell_type": "code",
   "execution_count": 11,
   "id": "6669a9a1-e1b0-44d9-9afe-127e59e9a0a1",
   "metadata": {},
   "outputs": [],
   "source": [
    "def make_mi_scores(X, y):\n",
    "    mi_scores = mutual_info_regression(X, y)\n",
    "    mi_scores = pd.Series(mi_scores, name=\"MI Scores\", index=X.columns)\n",
    "    mi_scores = mi_scores.sort_values(ascending=False)\n",
    "    return mi_scores"
   ]
  },
  {
   "cell_type": "code",
   "execution_count": 12,
   "id": "9101095b-8c44-44a1-a3fd-1954e9bf0a24",
   "metadata": {},
   "outputs": [],
   "source": [
    "df = pd.read_csv(\"rul_hrs.csv\")"
   ]
  },
  {
   "cell_type": "markdown",
   "id": "7a5af91c-fb67-4d84-b72e-8375b62d63de",
   "metadata": {},
   "source": [
    "### Feature Engineering"
   ]
  },
  {
   "cell_type": "code",
   "execution_count": 13,
   "id": "7e666d95-3b92-4e4e-9e3f-1750f3f518f5",
   "metadata": {},
   "outputs": [],
   "source": [
    "df = pd.read_csv(\"rul_hrs.csv\")"
   ]
  },
  {
   "cell_type": "code",
   "execution_count": 14,
   "id": "ebde9f13-4bea-4d1b-a820-fecd1fcf2b7a",
   "metadata": {},
   "outputs": [],
   "source": [
    "X = df.iloc[:,2:52]\n",
    "y = df.iloc[:,52]"
   ]
  },
  {
   "cell_type": "code",
   "execution_count": 15,
   "id": "85b0341d-03dc-4231-bc54-49cf1be14536",
   "metadata": {},
   "outputs": [],
   "source": [
    "mi_scores = make_mi_scores(X, y)"
   ]
  },
  {
   "cell_type": "code",
   "execution_count": 16,
   "id": "c8ddf846-91f0-4853-8f56-ab9224483317",
   "metadata": {},
   "outputs": [
    {
     "data": {
      "text/plain": [
       "sensor_03    2.914981\n",
       "sensor_02    2.875583\n",
       "sensor_01    2.549521\n",
       "sensor_36    1.604238\n",
       "sensor_49    1.523622\n",
       "sensor_42    1.482848\n",
       "sensor_26    1.428625\n",
       "sensor_00    1.361189\n",
       "sensor_13    1.356476\n",
       "sensor_28    1.348528\n",
       "sensor_29    1.292659\n",
       "sensor_45    1.162094\n",
       "sensor_34    1.126998\n",
       "sensor_44    1.121588\n",
       "sensor_23    1.115707\n",
       "sensor_47    1.114484\n",
       "sensor_35    1.103058\n",
       "sensor_06    1.066336\n",
       "sensor_41    1.062791\n",
       "sensor_25    1.041441\n",
       "Name: MI Scores, dtype: float64"
      ]
     },
     "execution_count": 16,
     "metadata": {},
     "output_type": "execute_result"
    }
   ],
   "source": [
    "mi_scores.nlargest(20)"
   ]
  },
  {
   "cell_type": "code",
   "execution_count": null,
   "id": "c52a9292-ef93-4837-949a-b0510f9370a3",
   "metadata": {},
   "outputs": [],
   "source": []
  }
 ],
 "metadata": {
  "kernelspec": {
   "display_name": "Python 3",
   "language": "python",
   "name": "python3"
  },
  "language_info": {
   "codemirror_mode": {
    "name": "ipython",
    "version": 3
   },
   "file_extension": ".py",
   "mimetype": "text/x-python",
   "name": "python",
   "nbconvert_exporter": "python",
   "pygments_lexer": "ipython3",
   "version": "3.8.8"
  }
 },
 "nbformat": 4,
 "nbformat_minor": 5
}
