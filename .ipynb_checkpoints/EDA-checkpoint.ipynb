{
 "cells": [
  {
   "cell_type": "code",
   "execution_count": 1,
   "id": "1108de8e-8b11-4b21-bfc6-537ab7b56a86",
   "metadata": {},
   "outputs": [],
   "source": [
    "import pandas as pd\n",
    "import numpy as np\n",
    "import matplotlib.pyplot as plt\n",
    "import seaborn as sns"
   ]
  },
  {
   "cell_type": "code",
   "execution_count": 2,
   "id": "c2d4b4af-bf84-4622-813f-3e4cb192e9e5",
   "metadata": {},
   "outputs": [],
   "source": [
    "from pmdarima import auto_arima\n",
    "import statsmodels.api as sm\n",
    "from fbprophet import Prophet"
   ]
  },
  {
   "cell_type": "code",
   "execution_count": 3,
   "id": "a1cb4b23-6360-4f2b-a5ec-fed6fbd6a77a",
   "metadata": {},
   "outputs": [],
   "source": [
    "df = pd.read_csv(\"rul_hrs.csv\")"
   ]
  },
  {
   "cell_type": "markdown",
   "id": "a01e4e9f-d683-422d-9a7f-31c342e1a3c4",
   "metadata": {},
   "source": [
    "### Discovering the data"
   ]
  },
  {
   "cell_type": "code",
   "execution_count": 4,
   "id": "b2c17a87-977e-4793-b25a-307dfb9f8cd0",
   "metadata": {},
   "outputs": [
    {
     "data": {
      "text/html": [
       "<div>\n",
       "<style scoped>\n",
       "    .dataframe tbody tr th:only-of-type {\n",
       "        vertical-align: middle;\n",
       "    }\n",
       "\n",
       "    .dataframe tbody tr th {\n",
       "        vertical-align: top;\n",
       "    }\n",
       "\n",
       "    .dataframe thead th {\n",
       "        text-align: right;\n",
       "    }\n",
       "</style>\n",
       "<table border=\"1\" class=\"dataframe\">\n",
       "  <thead>\n",
       "    <tr style=\"text-align: right;\">\n",
       "      <th></th>\n",
       "      <th>Unnamed: 0</th>\n",
       "      <th>timestamp</th>\n",
       "      <th>sensor_00</th>\n",
       "      <th>sensor_01</th>\n",
       "      <th>sensor_02</th>\n",
       "      <th>sensor_03</th>\n",
       "      <th>sensor_04</th>\n",
       "      <th>sensor_05</th>\n",
       "      <th>sensor_06</th>\n",
       "      <th>sensor_07</th>\n",
       "      <th>...</th>\n",
       "      <th>sensor_42</th>\n",
       "      <th>sensor_43</th>\n",
       "      <th>sensor_44</th>\n",
       "      <th>sensor_45</th>\n",
       "      <th>sensor_46</th>\n",
       "      <th>sensor_47</th>\n",
       "      <th>sensor_48</th>\n",
       "      <th>sensor_49</th>\n",
       "      <th>sensor_51</th>\n",
       "      <th>rul</th>\n",
       "    </tr>\n",
       "  </thead>\n",
       "  <tbody>\n",
       "    <tr>\n",
       "      <th>0</th>\n",
       "      <td>0</td>\n",
       "      <td>2018-04-01 00:00:00</td>\n",
       "      <td>2.465394</td>\n",
       "      <td>47.09201</td>\n",
       "      <td>53.2118</td>\n",
       "      <td>46.310760</td>\n",
       "      <td>634.3750</td>\n",
       "      <td>76.45975</td>\n",
       "      <td>13.41146</td>\n",
       "      <td>16.13136</td>\n",
       "      <td>...</td>\n",
       "      <td>31.770832</td>\n",
       "      <td>41.92708</td>\n",
       "      <td>39.641200</td>\n",
       "      <td>65.68287</td>\n",
       "      <td>50.92593</td>\n",
       "      <td>38.194440</td>\n",
       "      <td>157.9861</td>\n",
       "      <td>67.70834</td>\n",
       "      <td>201.3889</td>\n",
       "      <td>285.916667</td>\n",
       "    </tr>\n",
       "    <tr>\n",
       "      <th>1</th>\n",
       "      <td>1</td>\n",
       "      <td>2018-04-01 00:01:00</td>\n",
       "      <td>2.465394</td>\n",
       "      <td>47.09201</td>\n",
       "      <td>53.2118</td>\n",
       "      <td>46.310760</td>\n",
       "      <td>634.3750</td>\n",
       "      <td>76.45975</td>\n",
       "      <td>13.41146</td>\n",
       "      <td>16.13136</td>\n",
       "      <td>...</td>\n",
       "      <td>31.770832</td>\n",
       "      <td>41.92708</td>\n",
       "      <td>39.641200</td>\n",
       "      <td>65.68287</td>\n",
       "      <td>50.92593</td>\n",
       "      <td>38.194440</td>\n",
       "      <td>157.9861</td>\n",
       "      <td>67.70834</td>\n",
       "      <td>201.3889</td>\n",
       "      <td>285.900000</td>\n",
       "    </tr>\n",
       "    <tr>\n",
       "      <th>2</th>\n",
       "      <td>2</td>\n",
       "      <td>2018-04-01 00:02:00</td>\n",
       "      <td>2.444734</td>\n",
       "      <td>47.35243</td>\n",
       "      <td>53.2118</td>\n",
       "      <td>46.397570</td>\n",
       "      <td>638.8889</td>\n",
       "      <td>73.54598</td>\n",
       "      <td>13.32465</td>\n",
       "      <td>16.03733</td>\n",
       "      <td>...</td>\n",
       "      <td>31.770830</td>\n",
       "      <td>41.66666</td>\n",
       "      <td>39.351852</td>\n",
       "      <td>65.39352</td>\n",
       "      <td>51.21528</td>\n",
       "      <td>38.194443</td>\n",
       "      <td>155.9606</td>\n",
       "      <td>67.12963</td>\n",
       "      <td>203.7037</td>\n",
       "      <td>285.883333</td>\n",
       "    </tr>\n",
       "    <tr>\n",
       "      <th>3</th>\n",
       "      <td>3</td>\n",
       "      <td>2018-04-01 00:03:00</td>\n",
       "      <td>2.460474</td>\n",
       "      <td>47.09201</td>\n",
       "      <td>53.1684</td>\n",
       "      <td>46.397568</td>\n",
       "      <td>628.1250</td>\n",
       "      <td>76.98898</td>\n",
       "      <td>13.31742</td>\n",
       "      <td>16.24711</td>\n",
       "      <td>...</td>\n",
       "      <td>31.510420</td>\n",
       "      <td>40.88541</td>\n",
       "      <td>39.062500</td>\n",
       "      <td>64.81481</td>\n",
       "      <td>51.21528</td>\n",
       "      <td>38.194440</td>\n",
       "      <td>155.9606</td>\n",
       "      <td>66.84028</td>\n",
       "      <td>203.1250</td>\n",
       "      <td>285.866667</td>\n",
       "    </tr>\n",
       "    <tr>\n",
       "      <th>4</th>\n",
       "      <td>4</td>\n",
       "      <td>2018-04-01 00:04:00</td>\n",
       "      <td>2.445718</td>\n",
       "      <td>47.13541</td>\n",
       "      <td>53.2118</td>\n",
       "      <td>46.397568</td>\n",
       "      <td>636.4583</td>\n",
       "      <td>76.58897</td>\n",
       "      <td>13.35359</td>\n",
       "      <td>16.21094</td>\n",
       "      <td>...</td>\n",
       "      <td>31.510420</td>\n",
       "      <td>41.40625</td>\n",
       "      <td>38.773150</td>\n",
       "      <td>65.10416</td>\n",
       "      <td>51.79398</td>\n",
       "      <td>38.773150</td>\n",
       "      <td>158.2755</td>\n",
       "      <td>66.55093</td>\n",
       "      <td>201.3889</td>\n",
       "      <td>285.850000</td>\n",
       "    </tr>\n",
       "  </tbody>\n",
       "</table>\n",
       "<p>5 rows × 53 columns</p>\n",
       "</div>"
      ],
      "text/plain": [
       "   Unnamed: 0            timestamp  sensor_00  sensor_01  sensor_02  \\\n",
       "0           0  2018-04-01 00:00:00   2.465394   47.09201    53.2118   \n",
       "1           1  2018-04-01 00:01:00   2.465394   47.09201    53.2118   \n",
       "2           2  2018-04-01 00:02:00   2.444734   47.35243    53.2118   \n",
       "3           3  2018-04-01 00:03:00   2.460474   47.09201    53.1684   \n",
       "4           4  2018-04-01 00:04:00   2.445718   47.13541    53.2118   \n",
       "\n",
       "   sensor_03  sensor_04  sensor_05  sensor_06  sensor_07  ...  sensor_42  \\\n",
       "0  46.310760   634.3750   76.45975   13.41146   16.13136  ...  31.770832   \n",
       "1  46.310760   634.3750   76.45975   13.41146   16.13136  ...  31.770832   \n",
       "2  46.397570   638.8889   73.54598   13.32465   16.03733  ...  31.770830   \n",
       "3  46.397568   628.1250   76.98898   13.31742   16.24711  ...  31.510420   \n",
       "4  46.397568   636.4583   76.58897   13.35359   16.21094  ...  31.510420   \n",
       "\n",
       "   sensor_43  sensor_44  sensor_45  sensor_46  sensor_47  sensor_48  \\\n",
       "0   41.92708  39.641200   65.68287   50.92593  38.194440   157.9861   \n",
       "1   41.92708  39.641200   65.68287   50.92593  38.194440   157.9861   \n",
       "2   41.66666  39.351852   65.39352   51.21528  38.194443   155.9606   \n",
       "3   40.88541  39.062500   64.81481   51.21528  38.194440   155.9606   \n",
       "4   41.40625  38.773150   65.10416   51.79398  38.773150   158.2755   \n",
       "\n",
       "   sensor_49  sensor_51         rul  \n",
       "0   67.70834   201.3889  285.916667  \n",
       "1   67.70834   201.3889  285.900000  \n",
       "2   67.12963   203.7037  285.883333  \n",
       "3   66.84028   203.1250  285.866667  \n",
       "4   66.55093   201.3889  285.850000  \n",
       "\n",
       "[5 rows x 53 columns]"
      ]
     },
     "execution_count": 4,
     "metadata": {},
     "output_type": "execute_result"
    }
   ],
   "source": [
    "df.head()"
   ]
  },
  {
   "cell_type": "code",
   "execution_count": 5,
   "id": "f07bedcd-323a-479c-90ce-408ee03cee48",
   "metadata": {},
   "outputs": [
    {
     "data": {
      "text/html": [
       "<div>\n",
       "<style scoped>\n",
       "    .dataframe tbody tr th:only-of-type {\n",
       "        vertical-align: middle;\n",
       "    }\n",
       "\n",
       "    .dataframe tbody tr th {\n",
       "        vertical-align: top;\n",
       "    }\n",
       "\n",
       "    .dataframe thead th {\n",
       "        text-align: right;\n",
       "    }\n",
       "</style>\n",
       "<table border=\"1\" class=\"dataframe\">\n",
       "  <thead>\n",
       "    <tr style=\"text-align: right;\">\n",
       "      <th></th>\n",
       "      <th>Unnamed: 0</th>\n",
       "      <th>sensor_00</th>\n",
       "      <th>sensor_01</th>\n",
       "      <th>sensor_02</th>\n",
       "      <th>sensor_03</th>\n",
       "      <th>sensor_04</th>\n",
       "      <th>sensor_05</th>\n",
       "      <th>sensor_06</th>\n",
       "      <th>sensor_07</th>\n",
       "      <th>sensor_08</th>\n",
       "      <th>...</th>\n",
       "      <th>sensor_42</th>\n",
       "      <th>sensor_43</th>\n",
       "      <th>sensor_44</th>\n",
       "      <th>sensor_45</th>\n",
       "      <th>sensor_46</th>\n",
       "      <th>sensor_47</th>\n",
       "      <th>sensor_48</th>\n",
       "      <th>sensor_49</th>\n",
       "      <th>sensor_51</th>\n",
       "      <th>rul</th>\n",
       "    </tr>\n",
       "  </thead>\n",
       "  <tbody>\n",
       "    <tr>\n",
       "      <th>count</th>\n",
       "      <td>166441.000000</td>\n",
       "      <td>166441.000000</td>\n",
       "      <td>166441.000000</td>\n",
       "      <td>166441.000000</td>\n",
       "      <td>166441.000000</td>\n",
       "      <td>166441.000000</td>\n",
       "      <td>166441.000000</td>\n",
       "      <td>166441.000000</td>\n",
       "      <td>166441.000000</td>\n",
       "      <td>166441.000000</td>\n",
       "      <td>...</td>\n",
       "      <td>166441.000000</td>\n",
       "      <td>166441.000000</td>\n",
       "      <td>166441.000000</td>\n",
       "      <td>166441.000000</td>\n",
       "      <td>166441.000000</td>\n",
       "      <td>166441.000000</td>\n",
       "      <td>166441.000000</td>\n",
       "      <td>166441.000000</td>\n",
       "      <td>166441.000000</td>\n",
       "      <td>166441.000000</td>\n",
       "    </tr>\n",
       "    <tr>\n",
       "      <th>mean</th>\n",
       "      <td>83220.000000</td>\n",
       "      <td>2.348569</td>\n",
       "      <td>47.016965</td>\n",
       "      <td>50.628361</td>\n",
       "      <td>43.337738</td>\n",
       "      <td>577.716084</td>\n",
       "      <td>74.266212</td>\n",
       "      <td>13.097378</td>\n",
       "      <td>15.622506</td>\n",
       "      <td>15.006731</td>\n",
       "      <td>...</td>\n",
       "      <td>35.817003</td>\n",
       "      <td>43.271847</td>\n",
       "      <td>40.335053</td>\n",
       "      <td>41.135466</td>\n",
       "      <td>45.176190</td>\n",
       "      <td>43.245686</td>\n",
       "      <td>122.099804</td>\n",
       "      <td>52.637057</td>\n",
       "      <td>202.055026</td>\n",
       "      <td>288.629396</td>\n",
       "    </tr>\n",
       "    <tr>\n",
       "      <th>std</th>\n",
       "      <td>48047.522414</td>\n",
       "      <td>0.447107</td>\n",
       "      <td>3.424241</td>\n",
       "      <td>4.139904</td>\n",
       "      <td>2.584527</td>\n",
       "      <td>161.666372</td>\n",
       "      <td>19.456294</td>\n",
       "      <td>2.304404</td>\n",
       "      <td>2.447046</td>\n",
       "      <td>2.265047</td>\n",
       "      <td>...</td>\n",
       "      <td>11.316712</td>\n",
       "      <td>11.740656</td>\n",
       "      <td>8.555486</td>\n",
       "      <td>10.310476</td>\n",
       "      <td>13.649396</td>\n",
       "      <td>9.088286</td>\n",
       "      <td>63.938166</td>\n",
       "      <td>14.242712</td>\n",
       "      <td>119.694361</td>\n",
       "      <td>225.739648</td>\n",
       "    </tr>\n",
       "    <tr>\n",
       "      <th>min</th>\n",
       "      <td>0.000000</td>\n",
       "      <td>0.000000</td>\n",
       "      <td>22.439240</td>\n",
       "      <td>33.159720</td>\n",
       "      <td>31.640620</td>\n",
       "      <td>2.798032</td>\n",
       "      <td>0.000000</td>\n",
       "      <td>0.014468</td>\n",
       "      <td>0.000000</td>\n",
       "      <td>0.028935</td>\n",
       "      <td>...</td>\n",
       "      <td>22.135416</td>\n",
       "      <td>24.479166</td>\n",
       "      <td>25.752316</td>\n",
       "      <td>26.331018</td>\n",
       "      <td>26.331018</td>\n",
       "      <td>27.199070</td>\n",
       "      <td>26.331018</td>\n",
       "      <td>26.620370</td>\n",
       "      <td>27.777779</td>\n",
       "      <td>0.000000</td>\n",
       "    </tr>\n",
       "    <tr>\n",
       "      <th>25%</th>\n",
       "      <td>41610.000000</td>\n",
       "      <td>2.404398</td>\n",
       "      <td>45.789930</td>\n",
       "      <td>50.130210</td>\n",
       "      <td>42.361110</td>\n",
       "      <td>624.884300</td>\n",
       "      <td>72.088920</td>\n",
       "      <td>13.288480</td>\n",
       "      <td>15.711810</td>\n",
       "      <td>15.147570</td>\n",
       "      <td>...</td>\n",
       "      <td>32.812500</td>\n",
       "      <td>39.062500</td>\n",
       "      <td>36.168980</td>\n",
       "      <td>36.458330</td>\n",
       "      <td>39.351850</td>\n",
       "      <td>38.773150</td>\n",
       "      <td>73.495370</td>\n",
       "      <td>46.585650</td>\n",
       "      <td>178.240700</td>\n",
       "      <td>99.066667</td>\n",
       "    </tr>\n",
       "    <tr>\n",
       "      <th>50%</th>\n",
       "      <td>83220.000000</td>\n",
       "      <td>2.455556</td>\n",
       "      <td>47.612850</td>\n",
       "      <td>51.649300</td>\n",
       "      <td>43.793400</td>\n",
       "      <td>631.712952</td>\n",
       "      <td>77.362460</td>\n",
       "      <td>13.527200</td>\n",
       "      <td>16.131360</td>\n",
       "      <td>15.292240</td>\n",
       "      <td>...</td>\n",
       "      <td>35.416660</td>\n",
       "      <td>42.187500</td>\n",
       "      <td>39.351850</td>\n",
       "      <td>39.351850</td>\n",
       "      <td>43.113430</td>\n",
       "      <td>41.956020</td>\n",
       "      <td>109.953700</td>\n",
       "      <td>50.925926</td>\n",
       "      <td>197.916700</td>\n",
       "      <td>226.250000</td>\n",
       "    </tr>\n",
       "    <tr>\n",
       "      <th>75%</th>\n",
       "      <td>124830.000000</td>\n",
       "      <td>2.497859</td>\n",
       "      <td>49.001740</td>\n",
       "      <td>52.951390</td>\n",
       "      <td>44.965275</td>\n",
       "      <td>636.921265</td>\n",
       "      <td>82.405220</td>\n",
       "      <td>13.809320</td>\n",
       "      <td>16.210940</td>\n",
       "      <td>15.617770</td>\n",
       "      <td>...</td>\n",
       "      <td>37.760410</td>\n",
       "      <td>45.833330</td>\n",
       "      <td>43.113430</td>\n",
       "      <td>43.113430</td>\n",
       "      <td>47.743060</td>\n",
       "      <td>46.006940</td>\n",
       "      <td>163.194400</td>\n",
       "      <td>56.134260</td>\n",
       "      <td>210.937500</td>\n",
       "      <td>445.383333</td>\n",
       "    </tr>\n",
       "    <tr>\n",
       "      <th>max</th>\n",
       "      <td>166440.000000</td>\n",
       "      <td>2.549016</td>\n",
       "      <td>55.772570</td>\n",
       "      <td>56.032990</td>\n",
       "      <td>48.220490</td>\n",
       "      <td>800.000000</td>\n",
       "      <td>99.999880</td>\n",
       "      <td>22.251160</td>\n",
       "      <td>23.596640</td>\n",
       "      <td>24.348960</td>\n",
       "      <td>...</td>\n",
       "      <td>374.218800</td>\n",
       "      <td>408.593700</td>\n",
       "      <td>290.509200</td>\n",
       "      <td>231.481500</td>\n",
       "      <td>320.891200</td>\n",
       "      <td>220.486100</td>\n",
       "      <td>502.314800</td>\n",
       "      <td>458.622700</td>\n",
       "      <td>1000.000000</td>\n",
       "      <td>837.483333</td>\n",
       "    </tr>\n",
       "  </tbody>\n",
       "</table>\n",
       "<p>8 rows × 52 columns</p>\n",
       "</div>"
      ],
      "text/plain": [
       "          Unnamed: 0      sensor_00      sensor_01      sensor_02  \\\n",
       "count  166441.000000  166441.000000  166441.000000  166441.000000   \n",
       "mean    83220.000000       2.348569      47.016965      50.628361   \n",
       "std     48047.522414       0.447107       3.424241       4.139904   \n",
       "min         0.000000       0.000000      22.439240      33.159720   \n",
       "25%     41610.000000       2.404398      45.789930      50.130210   \n",
       "50%     83220.000000       2.455556      47.612850      51.649300   \n",
       "75%    124830.000000       2.497859      49.001740      52.951390   \n",
       "max    166440.000000       2.549016      55.772570      56.032990   \n",
       "\n",
       "           sensor_03      sensor_04      sensor_05      sensor_06  \\\n",
       "count  166441.000000  166441.000000  166441.000000  166441.000000   \n",
       "mean       43.337738     577.716084      74.266212      13.097378   \n",
       "std         2.584527     161.666372      19.456294       2.304404   \n",
       "min        31.640620       2.798032       0.000000       0.014468   \n",
       "25%        42.361110     624.884300      72.088920      13.288480   \n",
       "50%        43.793400     631.712952      77.362460      13.527200   \n",
       "75%        44.965275     636.921265      82.405220      13.809320   \n",
       "max        48.220490     800.000000      99.999880      22.251160   \n",
       "\n",
       "           sensor_07      sensor_08  ...      sensor_42      sensor_43  \\\n",
       "count  166441.000000  166441.000000  ...  166441.000000  166441.000000   \n",
       "mean       15.622506      15.006731  ...      35.817003      43.271847   \n",
       "std         2.447046       2.265047  ...      11.316712      11.740656   \n",
       "min         0.000000       0.028935  ...      22.135416      24.479166   \n",
       "25%        15.711810      15.147570  ...      32.812500      39.062500   \n",
       "50%        16.131360      15.292240  ...      35.416660      42.187500   \n",
       "75%        16.210940      15.617770  ...      37.760410      45.833330   \n",
       "max        23.596640      24.348960  ...     374.218800     408.593700   \n",
       "\n",
       "           sensor_44      sensor_45      sensor_46      sensor_47  \\\n",
       "count  166441.000000  166441.000000  166441.000000  166441.000000   \n",
       "mean       40.335053      41.135466      45.176190      43.245686   \n",
       "std         8.555486      10.310476      13.649396       9.088286   \n",
       "min        25.752316      26.331018      26.331018      27.199070   \n",
       "25%        36.168980      36.458330      39.351850      38.773150   \n",
       "50%        39.351850      39.351850      43.113430      41.956020   \n",
       "75%        43.113430      43.113430      47.743060      46.006940   \n",
       "max       290.509200     231.481500     320.891200     220.486100   \n",
       "\n",
       "           sensor_48      sensor_49      sensor_51            rul  \n",
       "count  166441.000000  166441.000000  166441.000000  166441.000000  \n",
       "mean      122.099804      52.637057     202.055026     288.629396  \n",
       "std        63.938166      14.242712     119.694361     225.739648  \n",
       "min        26.331018      26.620370      27.777779       0.000000  \n",
       "25%        73.495370      46.585650     178.240700      99.066667  \n",
       "50%       109.953700      50.925926     197.916700     226.250000  \n",
       "75%       163.194400      56.134260     210.937500     445.383333  \n",
       "max       502.314800     458.622700    1000.000000     837.483333  \n",
       "\n",
       "[8 rows x 52 columns]"
      ]
     },
     "execution_count": 5,
     "metadata": {},
     "output_type": "execute_result"
    }
   ],
   "source": [
    "df.describe()"
   ]
  },
  {
   "cell_type": "code",
   "execution_count": 6,
   "id": "81fc3450-3a6d-4289-83a3-fc1f8962ffe2",
   "metadata": {},
   "outputs": [
    {
     "data": {
      "text/plain": [
       "count    166441.000000\n",
       "mean        288.629396\n",
       "std         225.739648\n",
       "min           0.000000\n",
       "25%          99.066667\n",
       "50%         226.250000\n",
       "75%         445.383333\n",
       "max         837.483333\n",
       "Name: rul, dtype: float64"
      ]
     },
     "execution_count": 6,
     "metadata": {},
     "output_type": "execute_result"
    }
   ],
   "source": [
    "df.rul.describe()"
   ]
  },
  {
   "cell_type": "code",
   "execution_count": 7,
   "id": "b522d4ce-a85c-4055-a498-97cf364e724e",
   "metadata": {},
   "outputs": [
    {
     "name": "stdout",
     "output_type": "stream",
     "text": [
      "<class 'pandas.core.frame.DataFrame'>\n",
      "RangeIndex: 166441 entries, 0 to 166440\n",
      "Data columns (total 53 columns):\n",
      " #   Column      Non-Null Count   Dtype  \n",
      "---  ------      --------------   -----  \n",
      " 0   Unnamed: 0  166441 non-null  int64  \n",
      " 1   timestamp   166441 non-null  object \n",
      " 2   sensor_00   166441 non-null  float64\n",
      " 3   sensor_01   166441 non-null  float64\n",
      " 4   sensor_02   166441 non-null  float64\n",
      " 5   sensor_03   166441 non-null  float64\n",
      " 6   sensor_04   166441 non-null  float64\n",
      " 7   sensor_05   166441 non-null  float64\n",
      " 8   sensor_06   166441 non-null  float64\n",
      " 9   sensor_07   166441 non-null  float64\n",
      " 10  sensor_08   166441 non-null  float64\n",
      " 11  sensor_09   166441 non-null  float64\n",
      " 12  sensor_10   166441 non-null  float64\n",
      " 13  sensor_11   166441 non-null  float64\n",
      " 14  sensor_12   166441 non-null  float64\n",
      " 15  sensor_13   166441 non-null  float64\n",
      " 16  sensor_14   166441 non-null  float64\n",
      " 17  sensor_16   166441 non-null  float64\n",
      " 18  sensor_17   166441 non-null  float64\n",
      " 19  sensor_18   166441 non-null  float64\n",
      " 20  sensor_19   166441 non-null  float64\n",
      " 21  sensor_20   166441 non-null  float64\n",
      " 22  sensor_21   166441 non-null  float64\n",
      " 23  sensor_22   166441 non-null  float64\n",
      " 24  sensor_23   166441 non-null  float64\n",
      " 25  sensor_24   166441 non-null  float64\n",
      " 26  sensor_25   166441 non-null  float64\n",
      " 27  sensor_26   166441 non-null  float64\n",
      " 28  sensor_27   166441 non-null  float64\n",
      " 29  sensor_28   166441 non-null  float64\n",
      " 30  sensor_29   166441 non-null  float64\n",
      " 31  sensor_30   166441 non-null  float64\n",
      " 32  sensor_31   166441 non-null  float64\n",
      " 33  sensor_32   166441 non-null  float64\n",
      " 34  sensor_33   166441 non-null  float64\n",
      " 35  sensor_34   166441 non-null  float64\n",
      " 36  sensor_35   166441 non-null  float64\n",
      " 37  sensor_36   166441 non-null  float64\n",
      " 38  sensor_37   166441 non-null  float64\n",
      " 39  sensor_38   166441 non-null  float64\n",
      " 40  sensor_39   166441 non-null  float64\n",
      " 41  sensor_40   166441 non-null  float64\n",
      " 42  sensor_41   166441 non-null  float64\n",
      " 43  sensor_42   166441 non-null  float64\n",
      " 44  sensor_43   166441 non-null  float64\n",
      " 45  sensor_44   166441 non-null  float64\n",
      " 46  sensor_45   166441 non-null  float64\n",
      " 47  sensor_46   166441 non-null  float64\n",
      " 48  sensor_47   166441 non-null  float64\n",
      " 49  sensor_48   166441 non-null  float64\n",
      " 50  sensor_49   166441 non-null  float64\n",
      " 51  sensor_51   166441 non-null  float64\n",
      " 52  rul         166441 non-null  float64\n",
      "dtypes: float64(51), int64(1), object(1)\n",
      "memory usage: 67.3+ MB\n"
     ]
    },
    {
     "name": "stderr",
     "output_type": "stream",
     "text": [
      "<ipython-input-7-6ac79f7ef903>:1: FutureWarning: null_counts is deprecated. Use show_counts instead\n",
      "  df.info(verbose=True, null_counts=True)\n"
     ]
    }
   ],
   "source": [
    "df.info(verbose=True, null_counts=True)"
   ]
  },
  {
   "cell_type": "code",
   "execution_count": 8,
   "id": "a4ce0208-e45e-4183-865d-ab9e71953db1",
   "metadata": {},
   "outputs": [
    {
     "data": {
      "text/plain": [
       "(166441, 53)"
      ]
     },
     "execution_count": 8,
     "metadata": {},
     "output_type": "execute_result"
    }
   ],
   "source": [
    "df.shape"
   ]
  },
  {
   "cell_type": "code",
   "execution_count": 9,
   "id": "e0d9a256-e035-44a0-bb54-c415cd277657",
   "metadata": {},
   "outputs": [
    {
     "data": {
      "text/plain": [
       "Unnamed: 0      int64\n",
       "timestamp      object\n",
       "sensor_00     float64\n",
       "sensor_01     float64\n",
       "sensor_02     float64\n",
       "sensor_03     float64\n",
       "sensor_04     float64\n",
       "sensor_05     float64\n",
       "sensor_06     float64\n",
       "sensor_07     float64\n",
       "sensor_08     float64\n",
       "sensor_09     float64\n",
       "sensor_10     float64\n",
       "sensor_11     float64\n",
       "sensor_12     float64\n",
       "sensor_13     float64\n",
       "sensor_14     float64\n",
       "sensor_16     float64\n",
       "sensor_17     float64\n",
       "sensor_18     float64\n",
       "sensor_19     float64\n",
       "sensor_20     float64\n",
       "sensor_21     float64\n",
       "sensor_22     float64\n",
       "sensor_23     float64\n",
       "sensor_24     float64\n",
       "sensor_25     float64\n",
       "sensor_26     float64\n",
       "sensor_27     float64\n",
       "sensor_28     float64\n",
       "sensor_29     float64\n",
       "sensor_30     float64\n",
       "sensor_31     float64\n",
       "sensor_32     float64\n",
       "sensor_33     float64\n",
       "sensor_34     float64\n",
       "sensor_35     float64\n",
       "sensor_36     float64\n",
       "sensor_37     float64\n",
       "sensor_38     float64\n",
       "sensor_39     float64\n",
       "sensor_40     float64\n",
       "sensor_41     float64\n",
       "sensor_42     float64\n",
       "sensor_43     float64\n",
       "sensor_44     float64\n",
       "sensor_45     float64\n",
       "sensor_46     float64\n",
       "sensor_47     float64\n",
       "sensor_48     float64\n",
       "sensor_49     float64\n",
       "sensor_51     float64\n",
       "rul           float64\n",
       "dtype: object"
      ]
     },
     "execution_count": 9,
     "metadata": {},
     "output_type": "execute_result"
    }
   ],
   "source": [
    "df.dtypes"
   ]
  },
  {
   "cell_type": "code",
   "execution_count": 10,
   "id": "af9f99c7-a463-4a07-8953-b845fe8216b1",
   "metadata": {},
   "outputs": [
    {
     "data": {
      "text/plain": [
       "0.06572446972131729"
      ]
     },
     "execution_count": 10,
     "metadata": {},
     "output_type": "execute_result"
    }
   ],
   "source": [
    "df.memory_usage().sum()/(1024*1024*1024)"
   ]
  },
  {
   "cell_type": "markdown",
   "id": "0f0dafec-5f94-41c8-b440-d013c990fa48",
   "metadata": {},
   "source": [
    "### Looking for missing values "
   ]
  },
  {
   "cell_type": "code",
   "execution_count": 11,
   "id": "7b3e728a-5507-4885-8930-f5b41bfd0899",
   "metadata": {},
   "outputs": [
    {
     "data": {
      "text/plain": [
       "Unnamed: 0    0\n",
       "timestamp     0\n",
       "sensor_00     0\n",
       "sensor_01     0\n",
       "sensor_02     0\n",
       "sensor_03     0\n",
       "sensor_04     0\n",
       "sensor_05     0\n",
       "sensor_06     0\n",
       "sensor_07     0\n",
       "sensor_08     0\n",
       "sensor_09     0\n",
       "sensor_10     0\n",
       "sensor_11     0\n",
       "sensor_12     0\n",
       "sensor_13     0\n",
       "sensor_14     0\n",
       "sensor_16     0\n",
       "sensor_17     0\n",
       "sensor_18     0\n",
       "sensor_19     0\n",
       "sensor_20     0\n",
       "sensor_21     0\n",
       "sensor_22     0\n",
       "sensor_23     0\n",
       "sensor_24     0\n",
       "sensor_25     0\n",
       "sensor_26     0\n",
       "sensor_27     0\n",
       "sensor_28     0\n",
       "sensor_29     0\n",
       "sensor_30     0\n",
       "sensor_31     0\n",
       "sensor_32     0\n",
       "sensor_33     0\n",
       "sensor_34     0\n",
       "sensor_35     0\n",
       "sensor_36     0\n",
       "sensor_37     0\n",
       "sensor_38     0\n",
       "sensor_39     0\n",
       "sensor_40     0\n",
       "sensor_41     0\n",
       "sensor_42     0\n",
       "sensor_43     0\n",
       "sensor_44     0\n",
       "sensor_45     0\n",
       "sensor_46     0\n",
       "sensor_47     0\n",
       "sensor_48     0\n",
       "sensor_49     0\n",
       "sensor_51     0\n",
       "rul           0\n",
       "dtype: int64"
      ]
     },
     "execution_count": 11,
     "metadata": {},
     "output_type": "execute_result"
    }
   ],
   "source": [
    "df.isnull().sum()"
   ]
  },
  {
   "cell_type": "markdown",
   "id": "f1f52f9c-b3f5-4f57-94d9-692670a456a1",
   "metadata": {},
   "source": [
    "### Looking for duplicates"
   ]
  },
  {
   "cell_type": "code",
   "execution_count": 12,
   "id": "4910d2ed-e2bf-4086-a3e3-64a8678c288c",
   "metadata": {},
   "outputs": [
    {
     "data": {
      "text/plain": [
       "False    166441\n",
       "dtype: int64"
      ]
     },
     "execution_count": 12,
     "metadata": {},
     "output_type": "execute_result"
    }
   ],
   "source": [
    "df.duplicated().value_counts()"
   ]
  },
  {
   "cell_type": "markdown",
   "id": "40e89081-227c-41a3-9b29-a1ae18a121b3",
   "metadata": {},
   "source": [
    "### Looking for outliers"
   ]
  },
  {
   "cell_type": "code",
   "execution_count": 13,
   "id": "3f3ffbff-a36a-4cc5-afc9-3a23afa63064",
   "metadata": {},
   "outputs": [
    {
     "data": {
      "text/plain": [
       "array([[<AxesSubplot:title={'center':'Unnamed: 0'}>,\n",
       "        <AxesSubplot:title={'center':'sensor_00'}>,\n",
       "        <AxesSubplot:title={'center':'sensor_01'}>,\n",
       "        <AxesSubplot:title={'center':'sensor_02'}>,\n",
       "        <AxesSubplot:title={'center':'sensor_03'}>,\n",
       "        <AxesSubplot:title={'center':'sensor_04'}>,\n",
       "        <AxesSubplot:title={'center':'sensor_05'}>],\n",
       "       [<AxesSubplot:title={'center':'sensor_06'}>,\n",
       "        <AxesSubplot:title={'center':'sensor_07'}>,\n",
       "        <AxesSubplot:title={'center':'sensor_08'}>,\n",
       "        <AxesSubplot:title={'center':'sensor_09'}>,\n",
       "        <AxesSubplot:title={'center':'sensor_10'}>,\n",
       "        <AxesSubplot:title={'center':'sensor_11'}>,\n",
       "        <AxesSubplot:title={'center':'sensor_12'}>],\n",
       "       [<AxesSubplot:title={'center':'sensor_13'}>,\n",
       "        <AxesSubplot:title={'center':'sensor_14'}>,\n",
       "        <AxesSubplot:title={'center':'sensor_16'}>,\n",
       "        <AxesSubplot:title={'center':'sensor_17'}>,\n",
       "        <AxesSubplot:title={'center':'sensor_18'}>,\n",
       "        <AxesSubplot:title={'center':'sensor_19'}>,\n",
       "        <AxesSubplot:title={'center':'sensor_20'}>],\n",
       "       [<AxesSubplot:title={'center':'sensor_21'}>,\n",
       "        <AxesSubplot:title={'center':'sensor_22'}>,\n",
       "        <AxesSubplot:title={'center':'sensor_23'}>,\n",
       "        <AxesSubplot:title={'center':'sensor_24'}>,\n",
       "        <AxesSubplot:title={'center':'sensor_25'}>,\n",
       "        <AxesSubplot:title={'center':'sensor_26'}>,\n",
       "        <AxesSubplot:title={'center':'sensor_27'}>],\n",
       "       [<AxesSubplot:title={'center':'sensor_28'}>,\n",
       "        <AxesSubplot:title={'center':'sensor_29'}>,\n",
       "        <AxesSubplot:title={'center':'sensor_30'}>,\n",
       "        <AxesSubplot:title={'center':'sensor_31'}>,\n",
       "        <AxesSubplot:title={'center':'sensor_32'}>,\n",
       "        <AxesSubplot:title={'center':'sensor_33'}>,\n",
       "        <AxesSubplot:title={'center':'sensor_34'}>],\n",
       "       [<AxesSubplot:title={'center':'sensor_35'}>,\n",
       "        <AxesSubplot:title={'center':'sensor_36'}>,\n",
       "        <AxesSubplot:title={'center':'sensor_37'}>,\n",
       "        <AxesSubplot:title={'center':'sensor_38'}>,\n",
       "        <AxesSubplot:title={'center':'sensor_39'}>,\n",
       "        <AxesSubplot:title={'center':'sensor_40'}>,\n",
       "        <AxesSubplot:title={'center':'sensor_41'}>],\n",
       "       [<AxesSubplot:title={'center':'sensor_42'}>,\n",
       "        <AxesSubplot:title={'center':'sensor_43'}>,\n",
       "        <AxesSubplot:title={'center':'sensor_44'}>,\n",
       "        <AxesSubplot:title={'center':'sensor_45'}>,\n",
       "        <AxesSubplot:title={'center':'sensor_46'}>,\n",
       "        <AxesSubplot:title={'center':'sensor_47'}>,\n",
       "        <AxesSubplot:title={'center':'sensor_48'}>],\n",
       "       [<AxesSubplot:title={'center':'sensor_49'}>,\n",
       "        <AxesSubplot:title={'center':'sensor_51'}>,\n",
       "        <AxesSubplot:title={'center':'rul'}>, <AxesSubplot:>,\n",
       "        <AxesSubplot:>, <AxesSubplot:>, <AxesSubplot:>]], dtype=object)"
      ]
     },
     "execution_count": 13,
     "metadata": {},
     "output_type": "execute_result"
    },
    {
     "data": {
      "image/png": "[encoded data removed]",
      "text/plain": [
       "<Figure size 1080x720 with 56 Axes>"
      ]
     },
     "metadata": {
      "needs_background": "light"
     },
     "output_type": "display_data"
    }
   ],
   "source": [
    "df.hist(bins=30, figsize=(15, 10))"
   ]
  },
  {
   "cell_type": "markdown",
   "id": "c6c8afe6-6d07-49f6-9af8-e80072e8af50",
   "metadata": {},
   "source": [
    "### Looking for correlations"
   ]
  },
  {
   "cell_type": "code",
   "execution_count": 14,
   "id": "f1cde74b-e232-4545-a76f-c58feddf141f",
   "metadata": {},
   "outputs": [
    {
     "data": {
      "text/plain": [
       "<AxesSubplot:>"
      ]
     },
     "execution_count": 14,
     "metadata": {},
     "output_type": "execute_result"
    },
    {
     "data": {
      "image/png": "[encoded data removed]",
      "text/plain": [
       "<Figure size 432x288 with 2 Axes>"
      ]
     },
     "metadata": {
      "needs_background": "light"
     },
     "output_type": "display_data"
    }
   ],
   "source": [
    "sns.heatmap(df.corr())"
   ]
  },
  {
   "cell_type": "markdown",
   "id": "361e3f1c-b017-4915-bc6a-d9d85b8333ba",
   "metadata": {},
   "source": [
    "### Studying the target value over time"
   ]
  },
  {
   "cell_type": "code",
   "execution_count": 15,
   "id": "d9993e2b-448d-475b-a98e-ce7de1fa8b3b",
   "metadata": {},
   "outputs": [
    {
     "data": {
      "text/plain": [
       "Index(['Unnamed: 0', 'timestamp', 'sensor_00', 'sensor_01', 'sensor_02',\n",
       "       'sensor_03', 'sensor_04', 'sensor_05', 'sensor_06', 'sensor_07',\n",
       "       'sensor_08', 'sensor_09', 'sensor_10', 'sensor_11', 'sensor_12',\n",
       "       'sensor_13', 'sensor_14', 'sensor_16', 'sensor_17', 'sensor_18',\n",
       "       'sensor_19', 'sensor_20', 'sensor_21', 'sensor_22', 'sensor_23',\n",
       "       'sensor_24', 'sensor_25', 'sensor_26', 'sensor_27', 'sensor_28',\n",
       "       'sensor_29', 'sensor_30', 'sensor_31', 'sensor_32', 'sensor_33',\n",
       "       'sensor_34', 'sensor_35', 'sensor_36', 'sensor_37', 'sensor_38',\n",
       "       'sensor_39', 'sensor_40', 'sensor_41', 'sensor_42', 'sensor_43',\n",
       "       'sensor_44', 'sensor_45', 'sensor_46', 'sensor_47', 'sensor_48',\n",
       "       'sensor_49', 'sensor_51', 'rul'],\n",
       "      dtype='object')"
      ]
     },
     "execution_count": 15,
     "metadata": {},
     "output_type": "execute_result"
    }
   ],
   "source": [
    "df.columns"
   ]
  },
  {
   "cell_type": "code",
   "execution_count": 16,
   "id": "8ba7f969-12ca-41a2-961b-ef02d455653f",
   "metadata": {},
   "outputs": [],
   "source": [
    "df.timestamp = pd.to_datetime(df.timestamp)"
   ]
  },
  {
   "cell_type": "code",
   "execution_count": null,
   "id": "48859089-3af0-401e-8ab4-2f8e690f52ea",
   "metadata": {},
   "outputs": [],
   "source": [
    "plt.figure(figsize=(12,6))\n",
    "plt.title(\"Evolution of RUL over time\")\n",
    "# Line chart showing evolution of rul\n",
    "sns.lineplot(x=\"timestamp\", y=\"rul\", data=df)\n",
    "#plt.xticks(rotation=15)"
   ]
  },
  {
   "cell_type": "code",
   "execution_count": null,
   "id": "847bba03-c323-4a73-bcdc-ddcbf07ed757",
   "metadata": {},
   "outputs": [],
   "source": [
    "decomposition = \n",
    " #trend = decomposition.trend\n",
    "#seasonal = decomposition.seasonal\n",
    "#residual = decomposition.resid"
   ]
  },
  {
   "cell_type": "markdown",
   "id": "2f353c56-1079-4734-93ed-9d465166d6ef",
   "metadata": {},
   "source": [
    "### Studying the target value in general"
   ]
  },
  {
   "cell_type": "code",
   "execution_count": 17,
   "id": "8bc39699-c11a-40c3-a24e-e1c5cac927db",
   "metadata": {},
   "outputs": [
    {
     "data": {
      "text/plain": [
       "<AxesSubplot:ylabel='Frequency'>"
      ]
     },
     "execution_count": 17,
     "metadata": {},
     "output_type": "execute_result"
    },
    {
     "data": {
      "image/png": "[encoded data removed]",
      "text/plain": [
       "<Figure size 432x288 with 1 Axes>"
      ]
     },
     "metadata": {
      "needs_background": "light"
     },
     "output_type": "display_data"
    }
   ],
   "source": [
    "df.rul.plot.hist()"
   ]
  },
  {
   "cell_type": "code",
   "execution_count": null,
   "id": "3d781fd7-84c0-48f1-92fe-47d6b719f3ec",
   "metadata": {},
   "outputs": [],
   "source": []
  }
 ],
 "metadata": {
  "kernelspec": {
   "display_name": "Python 3",
   "language": "python",
   "name": "python3"
  },
  "language_info": {
   "codemirror_mode": {
    "name": "ipython",
    "version": 3
   },
   "file_extension": ".py",
   "mimetype": "text/x-python",
   "name": "python",
   "nbconvert_exporter": "python",
   "pygments_lexer": "ipython3",
   "version": "3.8.8"
  }
 },
 "nbformat": 4,
 "nbformat_minor": 5
}
